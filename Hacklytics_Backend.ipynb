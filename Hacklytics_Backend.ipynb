{
  "cells": [
    {
      "cell_type": "code",
      "execution_count": 29,
      "metadata": {
        "id": "RXInneX6xx7c",
        "colab": {
          "base_uri": "https://localhost:8080/"
        },
        "outputId": "05bc361f-fe85-45a7-af92-69af4cbf8616"
      },
      "outputs": [
        {
          "output_type": "stream",
          "name": "stdout",
          "text": [
            "Collecting pypdf\n",
            "  Downloading pypdf-5.3.0-py3-none-any.whl.metadata (7.2 kB)\n",
            "Downloading pypdf-5.3.0-py3-none-any.whl (300 kB)\n",
            "\u001b[?25l   \u001b[90m━━━━━━━━━━━━━━━━━━━━━━━━━━━━━━━━━━━━━━━━\u001b[0m \u001b[32m0.0/300.7 kB\u001b[0m \u001b[31m?\u001b[0m eta \u001b[36m-:--:--\u001b[0m\r\u001b[2K   \u001b[91m━━━━━━━━━━━━━━━━━━━━\u001b[0m\u001b[90m╺\u001b[0m\u001b[90m━━━━━━━━━━━━━━━━━━━\u001b[0m \u001b[32m153.6/300.7 kB\u001b[0m \u001b[31m4.5 MB/s\u001b[0m eta \u001b[36m0:00:01\u001b[0m\r\u001b[2K   \u001b[90m━━━━━━━━━━━━━━━━━━━━━━━━━━━━━━━━━━━━━━━━\u001b[0m \u001b[32m300.7/300.7 kB\u001b[0m \u001b[31m5.0 MB/s\u001b[0m eta \u001b[36m0:00:00\u001b[0m\n",
            "\u001b[?25hInstalling collected packages: pypdf\n",
            "Successfully installed pypdf-5.3.0\n"
          ]
        }
      ],
      "source": [
        "!pip install -U -q \"google-generativeai>=0.8.2\"\n",
        "!pip install pypdf"
      ]
    },
    {
      "cell_type": "code",
      "source": [
        "import pandas as pd\n",
        "import sklearn\n",
        "from pypdf import PdfReader\n",
        "\n",
        "df = pd.read_csv(\"insurance_data.csv\")\n",
        "random_sample = df.groupby([\"County Name\"]).apply(lambda x: x.sample(20), include_groups=False)\n",
        "pdf = PdfReader(\"med-ind-lndscp-in.pdf\")\n",
        "pages = []\n",
        "for page in pdf.pages:\n",
        "    pages.append(page.extract_text())\n",
        "\n",
        "user_input = {}\n"
      ],
      "metadata": {
        "id": "8TdhrQGbKbg6"
      },
      "execution_count": 34,
      "outputs": []
    },
    {
      "cell_type": "code",
      "source": [
        "prompt = f\"\"\"\n",
        "Your task is to predict potential health insurance premiums and deductibles for\n",
        "a user based on a set of context and input data, while also providing advice as\n",
        "to where they can search for plans that may fit them. Based on the user's\n",
        "family, inform them how much they can expect to pay for premiums and deductibles\n",
        "at each metal level, and provide examples of insurance companies operating in\n",
        "their county.\n",
        "\n",
        "At the end of this query, I will provide you with a Pandas DataFrame containing\n",
        "a list of all health insurance plans available in Georgia in 2024. Use the\n",
        "\"County Name\" column of the DataFrame to tailor your predictions to the specific\n",
        "costs from the user's county. Use the \"Issuer Name\" column to find a list of\n",
        "available insurance providers to provide to the user. The DataFrame will contain\n",
        "information about each of the plans, including the premium amounts for different\n",
        "family sizes. Columns containing premium amounts may not necessarily have the\n",
        "word premium, but will list the type of plan (child, couple, or individual) and\n",
        "the number of children attached to the plan. Provide the premiums for the\n",
        "nearest age category to the ages provided by the user, but do not acknowledge\n",
        "the rounding of ages. Deductibles are listed under the cost sharing columns, and\n",
        "are grouped based on the type of medical expense.\n",
        "\n",
        "I will also provide you with the contents of a PDF file: {pages}\n",
        "This PDF file contains information about the DataFrame you are using. Note that\n",
        "you have been given a full list of available health insurance plans from 2024,\n",
        "but only for the state of Georgia.\n",
        "\n",
        "The user will provide you with some basic information, such as a list of plan\n",
        "members with ages, pre-existing health conditions and the frequency of medical\n",
        "visits associated with them, income level, and the county they are located in.\n",
        "You should provide an estimate of the premiums the user can expect to pay at\n",
        "each metal level based on the ages of their family. Predict this by analyzing\n",
        "the costs for each available plan. Additionally, provide a list of insurance\n",
        "issuers that operated in their county if they decide to search for other plans.\n",
        "\n",
        "The user information will be provided in JSON format, and will be at the end of\n",
        "this query. If the user provides information about a certain type of recurring\n",
        "medical visits, inform them how much they can expect to pay in deductibles per\n",
        "year. Also provide a list of common medical scenarios and the deductibles for\n",
        "each.\n",
        "\n",
        "If the user has not provided any data, or the JSON input is empty, generate a\n",
        "sample response for a scenario of your choice, explaining the sample input at\n",
        "the start of the response.\n",
        "\n",
        "You have been given enough data to provide plan recommendations. You must always\n",
        "provide a list of potential plans from the provided DataFrame regardless of how\n",
        "little information you think you are given. Provide a detailed response. Do not\n",
        "acknowledge any of the requests I have made in your response to the user. Do not\n",
        "acknowledge the use of a dataset in the making of your recommendations. Do not\n",
        "refer to yourself in the first person. Ensure that your response is properly\n",
        "formatted as HTML/CSS, using bullet points to make the response clearer. Do not\n",
        "mention the year, other than to say that the data used to inform your prediction\n",
        "was from the year 2024. Do not mention the DataFrame. Do not use the dollar\n",
        "sign, instead spell out the word \"dollars\". Use the data in the DataFrame to its\n",
        "fullest extent.\n",
        "\n",
        "/// RESPONSE FORMAT ///\n",
        "[Introduction, whatever you deem necessary]\n",
        "\n",
        "[Estimated premiums for bronze (range and average)]\n",
        "[Estimated premiums for silver (range and average)]\n",
        "[Estimated premiums for gold (range and average)]\n",
        "[Estimated premiums for platinum (range and average)]\n",
        "\n",
        "[Estimate deductibles for common medical scenarios (range and average) for each\n",
        "metal level (ensure that platinum has the lowest deductibles and bronze has the\n",
        "highest)]\n",
        "\n",
        "[Estimate deductibles for specified recurring visits (range and average)]\n",
        "\n",
        "[Inform the user if they may be eligible for cost reductions]\n",
        "\n",
        "[Provide examples of insurance companies operating in their county using the\n",
        "\"Issuer Name\" field from the DataFrame (do not mention DataFrame, but make sure\n",
        "to actually search it using the filter)]\n",
        "\n",
        "[Refer them to other resources, make other recommendation if desired]\n",
        "\n",
        "[Disclaimer, and refer users to healthcare.gov]\n",
        "/// END RESPONSE ///\n",
        "\n",
        "DataFrame of 2024 insurance plans in Georgia:\n",
        "{df}\n",
        "\n",
        "User JSON input: {user_input}\n",
        "\"\"\""
      ],
      "metadata": {
        "id": "TGeTXNeBHPb_"
      },
      "execution_count": 154,
      "outputs": []
    },
    {
      "cell_type": "code",
      "execution_count": 155,
      "metadata": {
        "id": "kWIuwKG2_oWE",
        "outputId": "d69ebe43-dd9b-4a80-d770-225cf0e92d43",
        "colab": {
          "base_uri": "https://localhost:8080/"
        }
      },
      "outputs": [
        {
          "output_type": "stream",
          "name": "stdout",
          "text": [
            "Drive already mounted at /gdrive; to attempt to forcibly remount, call drive.mount(\"/gdrive\", force_remount=True).\n",
            "[\n",
            "    {\n",
            "        \"parts\": [\n",
            "            {\n",
            "                \"text\": \"\\nYour task is to predict potential health insurance premiums and deductibles for \\na user based on a set of context and input data, while also providing advice as\\nto where they can search for plans that may fit them. Based on the user's \\nfamily, inform them how much they can expect to pay for premiums and deductibles\\nat each metal level, and provide examples of insurance companies operating in\\ntheir county.\\n\\nAt the end of this query, I will provide you with a Pandas DataFrame containing \\na list of all health insurance plans available in Georgia in 2024. Use the \\n\\\"County Name\\\" column of the DataFrame to tailor your predictions to the specific\\ncosts from the user's county. Use the \\\"Issuer Name\\\" column to find a list of \\navailable insurance providers to provide to the user. The DataFrame will contain\\ninformation about each of the plans, including the premium amounts for different \\nfamily sizes. Columns containing premium amounts may not necessarily have the \\nword premium, but will list the type of plan (child, couple, or individual) and \\nthe number of children attached to the plan. Provide the premiums for the \\nnearest age category to the ages provided by the user, but do not acknowledge \\nthe rounding of ages. Deductibles are listed under the cost sharing columns, and\\nare grouped based on the type of medical expense. \\n\\nI will also provide you with the contents of a PDF file: [' \\\\nQHP Landscape Instructions and Notes \\\\nMedical Individual Market \\\\n \\\\n \\\\n1) Overview of QHP Landscape medical individual market file \\\\n \\\\nThis data file contains information on certified medical plans offered through an Exchange to \\\\nconsumers in the individual market. These plans are also known as Qualified Health Plans (QHPs). \\\\nThe data file reports plans offered by county for states in the Federally-facilitated Exchanges \\\\nincluding states performing plan management functions, and State Based Exchanges using the \\\\nfederal platform for eligibility and enrollment. \\\\n \\\\n2) Identifying plans based on geography and plan criteria \\\\nTo browse for a plan by specific data fields, click on the icon at the top of the column for a specific \\\\nfield of interest such as state, county, or metal level. For example, to select a specific county of \\\\ninterest, select the county name from the drop-down menu in the third column and click \\u201cOK\\u201d \\\\nwhen done. The file will filter the data and show plan information only for the selected county. \\\\nMultiple data fields may be selected for filtering and browsing at one time. \\\\n3) Premium Information \\\\nPremium amounts do not include tax credits that will lower premiums for many consumers \\\\napplying for insurance. \\\\n \\\\nThe data file shows premiums for the following example scenarios: \\\\n\\u2022 Child age 0-14 = one child age 0-14 \\\\n\\u2022 Child age 18 = one child age 18 \\\\n\\u2022 Adult Individual Age 21, 27, 30, 40, 50, and 60 = one adult age 21, 27, 30, 40, 50, or 60 \\\\n\\u2022 Couple 21, 30, 40, 50, and 60 = two adults both age 21, 30, 40, 50, or 60, no children \\\\n\\u2022 Couple + 1 child, Age 21, 30, 40, 50 = two adults both age 21, 30, 40, or 50, and one child \\\\nage 0-14 \\\\n\\u2022 Couple + 2 children, Age 21, 30, 40, 50 = two adults both age 21, 30, 40, or 50, and two \\\\nchildren ages 0-14 \\\\n\\u2022 Couple + 3 or more children, Age 21, 30, 40, 50 = two adults both age 21, 30, 40, or 50, \\\\nand three or more children ages 0-14 \\\\n\\u2022 Individual + 1 child, Age 21, 30, 40, and 50 = one adult age 21, 30, 40, or 50, and one child \\\\nage 0-14 \\\\n\\u2022 Individual + 2 children, Age 21, 30, 40, and 50 = one adult age 21, 30, 40, or 50, and two \\\\nchildren ages 0-14 \\\\n\\u2022 Individual + 3 or more children, Age 21, 30, 40, and 50 = one adult age 21, 30, 40, or 50, and \\\\nthree or more children ages 0-14 \\\\n  ', ' \\\\nNote on Child Only Offering Status: Child-only plans (labeled as \\u201cAllows Child-Only\\u201d) will only \\\\nshow premiums for the Premium Child columns. Plans that prohibit child-only coverage (labeled \\\\nas \\u201cAllows Adult-Only\\u201d) will not show premiums for the Premium Child columns. \\\\n \\\\nNote on Children: The rating scenarios are limited to dependent children ages 0-14 in the immediate \\\\nfamily. Plans may vary in the rating of other child dependents such as stepchild, grandchild, or \\\\nfoster child. \\\\n \\\\nNote on Catastrophic Plans: For catastrophic plans only, individuals over age 29 generally may \\\\nnot enroll. However, individuals over age 29 with an effective hardship exemption that was \\\\ngranted by an Exchange are eligible to enroll in a catastrophic plan. \\\\n \\\\n4) Customer Service and Plan Materials \\\\nThe data file shows phone numbers and links to the following plan resources: \\\\n\\u2022 Customer service phone numbers (local, toll-free, TTY) \\\\n\\u2022 Network URL \\\\n\\u2022 Plan brochure URL \\\\n\\u2022 Summary of benefits URL \\\\n\\u2022 Drug formulary URL \\\\n \\\\n5) Standardized Plan Option \\\\n \\\\nThe data file indicates whether the medical plan is a standardized plan option, which are plans with \\\\nstandardized cost-sharing features for select services. A standardized plan option will have a state-\\\\nspecific value of Design Type 1, Design Type 2, or Design Type 3. A non-standardized plan option \\\\nwill have a value of \\u201cNot Applicable.\\u201d \\\\n \\\\n6) Dental Benefit Information \\\\nThe data file indicates whether the medical plan covers adult dental or child dental services. \\\\n \\\\n7) EHB Percent of Total Premium \\\\nThe data file shows Essential Health Benefit (EHB) percent of total premium for each plan. \\\\n \\\\n8) Cost Sharing Information \\\\nThe data file shows standard cost sharing information for each plan. Cost sharing information is \\\\nshown for in-network services (showing first tier where there are multiple in-network tiers), and \\\\nincludes: \\\\n \\\\n\\u2022 Deductibles: For in-network medical care and drugs (by individual, family, family per person) \\\\n\\u2022 Maximum out of pocket expenses: For in-network medical care and drugs (by individual, \\\\nfamily, family per person) \\\\n\\u2022 Copayments and coinsurance for the following in-network services: \\\\n\\u25e6 Primary care physician \\\\n\\u25e6 Specialist \\\\n\\u25e6 Emergency Room \\\\n\\u25e6 Inpatient facility \\\\n\\u25e6 Inpatient physician \\\\n\\u25e6 Generic drugs \\\\n\\u25e6 Preferred brand drugs \\\\n\\u25e6 Non-preferred brand drugs \\\\n\\u25e6 Specialty drugs \\\\n  ', ' \\\\nThe data file also shows cost sharing information for silver metal plans that are variants of the \\\\nstandard silver plan. Consumers that qualify for these silver plan variations based on their \\\\nincomes and family size will see lower out-of-pocket costs. These plans differ from the standard \\\\nplan by the percentage of health care expenses covered by the plan for a typical group of \\\\nenrollees (i.e., actuarial value). The actuarial values of these silver plan variants are: 73 Percent \\\\nSilver, 87 Percent Silver and 94 Percent Silver. \\\\n \\\\n9) Data Notes \\\\n \\\\nNote on Data Source: The data are from issuer submissions of their QHP applications to the \\\\nCenters for Medicare and Medicaid Services (CMS), submitted through the Health Insurance \\\\nOversight System (HIOS) from issuers in Federally-facilitated Exchange (FFE) states; and through \\\\nthe System for Electronic and Rate Form Filing (SERFF) from issuers in FFE states performing \\\\nplan management functions or State Based Exchange states that use the federal platform for \\\\neligibility and enrollment. The data are current as of October 15, 2024, and are subject to change. \\\\n \\\\nNote on County Coverage: For each county, all plans are shown whose service areas cover at \\\\nleast part of the county. Most plans have service areas covering the entire county. \\\\n \\\\nNote on Premiums: For Alaska, the premiums shown are for the rating area within the county with the \\\\nhighest county population. For all other states, the premiums shown are for a rating area that includes \\\\nall county residents. The premium amounts do not include tax credits that will lower premiums for \\\\nmany consumers applying for insurance. \\\\n \\\\nTo access detailed plan information, please visit https://www.healthcare.gov/ \\\\n \\\\n ']\\nThis PDF file contains information about the DataFrame you are using. Note that \\nyou have been given a full list of available health insurance plans from 2024,\\nbut only for the state of Georgia.\\n\\nThe user will provide you with some basic information, such as a list of plan\\nmembers with ages, pre-existing health conditions and the frequency of medical \\nvisits associated with them, income level, and the county they are located in. \\nYou should provide an estimate of the premiums the user can expect to pay at \\neach metal level based on the ages of their family. Predict this by analyzing \\nthe costs for each available plan. Additionally, provide a list of insurance \\nissuers that operated in their county if they decide to search for other plans.\\n\\nThe user information will be provided in JSON format, and will be at the end of \\nthis query. If the user provides information about a certain type of recurring\\nmedical visits, inform them how much they can expect to pay in deductibles per\\nyear. Also provide a list of common medical scenarios and the deductibles for \\neach.\\n\\nIf the user has not provided any data, or the JSON input is empty, generate a\\nsample response for a scenario of your choice, explaining the sample input at\\nthe start of the response.\\n\\nYou have been given enough data to provide plan recommendations. You must always\\nprovide a list of potential plans from the provided DataFrame regardless of how \\nlittle information you think you are given. Provide a detailed response. Do not \\nacknowledge any of the requests I have made in your response to the user. Do not\\nacknowledge the use of a dataset in the making of your recommendations. Do not \\nrefer to yourself in the first person. Ensure that your response is properly \\nformatted as HTML/CSS, using bullet points to make the response clearer. Do not\\nmention the year, other than to say that the data used to inform your prediction \\nwas from the year 2024. Do not mention the DataFrame. Do not use the dollar \\nsign, instead spell out the word \\\"dollars\\\". Use the data in the DataFrame to its\\nfullest extent.\\n\\n/// RESPONSE FORMAT ///\\n[Introduction, whatever you deem necessary]\\n\\n[Estimated premiums for bronze (range and average)]\\n[Estimated premiums for silver (range and average)]\\n[Estimated premiums for gold (range and average)]\\n[Estimated premiums for platinum (range and average)]\\n\\n[Estimate deductibles for common medical scenarios (range and average) for each \\nmetal level (ensure that platinum has the lowest deductibles and bronze has the \\nhighest)]\\n\\n[Estimate deductibles for specified recurring visits (range and average)]\\n\\n[Inform the user if they may be eligible for cost reductions]\\n\\n[Provide examples of insurance companies operating in their county using the \\n\\\"Issuer Name\\\" field from the DataFrame (do not mention DataFrame, but make sure \\nto actually search it using the filter)]\\n\\n[Refer them to other resources, make other recommendation if desired]\\n\\n[Disclaimer, and refer users to healthcare.gov]\\n/// END RESPONSE ///\\n\\nDataFrame of 2024 insurance plans in Georgia:\\n      County Name      Metal Level           Issuer Name  HIOS Issuer ID  \\\\\\n0         Appling           Silver      UnitedHealthcare           43802   \\n1         Appling  Expanded Bronze      UnitedHealthcare           43802   \\n2         Appling             Gold      UnitedHealthcare           43802   \\n3         Appling           Silver      UnitedHealthcare           43802   \\n4         Appling           Silver      UnitedHealthcare           43802   \\n...           ...              ...                   ...             ...   \\n15143       Worth         Platinum  Alliant Health Plans           83761   \\n15144       Worth         Platinum  Alliant Health Plans           83761   \\n15145       Worth             Gold  Alliant Health Plans           83761   \\n15146       Worth           Silver  Alliant Health Plans           83761   \\n15147       Worth  Expanded Bronze  Alliant Health Plans           83761   \\n\\n      Plan ID (Standard Component)  \\\\\\n0                   43802GA0040020   \\n1                   43802GA0040029   \\n2                   43802GA0040030   \\n3                   43802GA0040031   \\n4                   43802GA0040034   \\n...                            ...   \\n15143               83761GA0110047   \\n15144               83761GA0110048   \\n15145               83761GA0110049   \\n15146               83761GA0110050   \\n15147               83761GA0110051   \\n\\n                                     Plan Marketing Name  \\\\\\n0      UHC Silver Virtual First (Unlimited $0 App-bas...   \\n1      UHC Bronze Virtual First (Unlimited $0 App-bas...   \\n2                                      UHC Gold Standard   \\n3      UHC Silver Copay Focus $0 Indiv Med Ded ($0 Vi...   \\n4      UHC Silver Value ($0 Virtual Urgent Care + $0 ...   \\n...                                                  ...   \\n15143         SoloCare No Referral HMO Standard Platinum   \\n15144   SoloCare No Referral HMO Standard Platinum Chiro   \\n15145       SoloCare No Referral HMO Standard Gold Chiro   \\n15146     SoloCare No Referral HMO Standard Silver Chiro   \\n15147  SoloCare No Referral HMO Standard Expanded Bro...   \\n\\n      Standardized Plan Option Plan Type     Rating Area  \\\\\\n0               Not Applicable       HMO  Rating Area 14   \\n1               Not Applicable       HMO  Rating Area 14   \\n2                     Design 1       HMO  Rating Area 14   \\n3               Not Applicable       HMO  Rating Area 14   \\n4               Not Applicable       HMO  Rating Area 14   \\n...                        ...       ...             ...   \\n15143                 Design 1       HMO   Rating Area 1   \\n15144                 Design 1       HMO   Rating Area 1   \\n15145                 Design 1       HMO   Rating Area 1   \\n15146                 Design 1       HMO   Rating Area 1   \\n15147                 Design 1       HMO   Rating Area 1   \\n\\n               Child Only Offering  ...  \\\\\\n0      Allows Adult and Child-Only  ...   \\n1      Allows Adult and Child-Only  ...   \\n2      Allows Adult and Child-Only  ...   \\n3      Allows Adult and Child-Only  ...   \\n4      Allows Adult and Child-Only  ...   \\n...                            ...  ...   \\n15143  Allows Adult and Child-Only  ...   \\n15144  Allows Adult and Child-Only  ...   \\n15145  Allows Adult and Child-Only  ...   \\n15146  Allows Adult and Child-Only  ...   \\n15147  Allows Adult and Child-Only  ...   \\n\\n      Drug Maximum Out Of Pocket - Family (Per Person) - 94 Percent  \\\\\\n0                                    Included in Medical              \\n1                                                    NaN              \\n2                                                    NaN              \\n3                                                    NaN              \\n4                                                    NaN              \\n...                                                  ...              \\n15143                                Included in Medical              \\n15144                                                NaN              \\n15145                                                NaN              \\n15146                                                NaN              \\n15147                                                NaN              \\n\\n      Primary Care Physician - 94 Percent Specialist - 94 Percent  \\\\\\n0                               No Charge                     $10   \\n1                                     NaN                     NaN   \\n2                                     NaN                     NaN   \\n3                                     NaN                     NaN   \\n4                                     NaN                     NaN   \\n...                                   ...                     ...   \\n15143                           No Charge                     $10   \\n15144                                 NaN                     NaN   \\n15145                                 NaN                     NaN   \\n15146                                 NaN                     NaN   \\n15147                                 NaN                     NaN   \\n\\n      Emergency Room - 94 Percent Inpatient Facility - 94 Percent  \\\\\\n0                             25%                             25%   \\n1                             NaN                             NaN   \\n2                             NaN                             NaN   \\n3                             NaN                             NaN   \\n4                             NaN                             NaN   \\n...                           ...                             ...   \\n15143                         25%                             25%   \\n15144                         NaN                             NaN   \\n15145                         NaN                             NaN   \\n15146                         NaN                             NaN   \\n15147                         NaN                             NaN   \\n\\n      Inpatient Physician - 94 Percent Generic Drugs - 94 Percent  \\\\\\n0                                  25%                  No Charge   \\n1                                  NaN                        NaN   \\n2                                  NaN                        NaN   \\n3                                  NaN                        NaN   \\n4                                  NaN                        NaN   \\n...                                ...                        ...   \\n15143                              25%                  No Charge   \\n15144                              NaN                        NaN   \\n15145                              NaN                        NaN   \\n15146                              NaN                        NaN   \\n15147                              NaN                        NaN   \\n\\n       Preferred Brand Drugs - 94 Percent  \\\\\\n0                                     $15   \\n1                                     NaN   \\n2                                     NaN   \\n3                                     NaN   \\n4                                     NaN   \\n...                                   ...   \\n15143                                 $15   \\n15144                                 NaN   \\n15145                                 NaN   \\n15146                                 NaN   \\n15147                                 NaN   \\n\\n      Non-preferred Brand Drugs - 94 Percent Specialty Drugs - 94 Percent  \\n0                                        $50                         $150  \\n1                                        NaN                          NaN  \\n2                                        NaN                          NaN  \\n3                                        NaN                          NaN  \\n4                                        NaN                          NaN  \\n...                                      ...                          ...  \\n15143                                    $50                         $150  \\n15144                                    NaN                          NaN  \\n15145                                    NaN                          NaN  \\n15146                                    NaN                          NaN  \\n15147                                    NaN                          NaN  \\n\\n[15148 rows x 143 columns]\\n\\nUser JSON input: {}\\n\"\n",
            "            }\n",
            "        ]\n",
            "    }\n",
            "]\n"
          ]
        }
      ],
      "source": [
        "# import necessary modules.\n",
        "\n",
        "import google.generativeai as genai\n",
        "\n",
        "import base64\n",
        "import json\n",
        "\n",
        "try:\n",
        "    # Mount google drive\n",
        "    from google.colab import drive\n",
        "\n",
        "    drive.mount(\"/gdrive\")\n",
        "\n",
        "    # The SDK will automatically read it from the GOOGLE_API_KEY environment variable.\n",
        "    import os\n",
        "    api_key = os.environ.get(\"GOOGLE_API_KEY\")\n",
        "    genai.configure(api_key=api_key)\n",
        "\n",
        "\n",
        "\n",
        "except ImportError:\n",
        "    pass\n",
        "\n",
        "# Parse the arguments\n",
        "\n",
        "\n",
        "model = \"gemini-1.5-flash\"\n",
        "contents_b64 = base64.b64encode(json.dumps([{\"parts\": [{\"text\": prompt}]}]).encode(\"utf-8\"))\n",
        "generation_config_b64 = \"e30=\"\n",
        "safety_settings_b64 = \"e30=\"\n",
        "\n",
        "\n",
        "contents = json.loads(base64.b64decode(contents_b64))\n",
        "\n",
        "generation_config = json.loads(base64.b64decode(generation_config_b64))\n",
        "safety_settings = json.loads(base64.b64decode(safety_settings_b64))\n",
        "\n",
        "stream = False\n",
        "\n",
        "print(json.dumps(contents, indent=4))"
      ]
    },
    {
      "cell_type": "code",
      "execution_count": 156,
      "metadata": {
        "id": "LB2LxPmAB95V",
        "outputId": "397861d7-c80d-4c60-e535-5411324ba718",
        "colab": {
          "base_uri": "https://localhost:8080/",
          "height": 1000
        }
      },
      "outputs": [
        {
          "output_type": "stream",
          "name": "stdout",
          "text": [
            "<!DOCTYPE html>\n",
            "<html>\n",
            "<head>\n",
            "<style>\n",
            "body {\n",
            "  font-family: sans-serif;\n",
            "}\n",
            "ul {\n",
            "  list-style-type: disc;\n",
            "  margin-left: 20px;\n",
            "}\n",
            "</style>\n",
            "</head>\n",
            "<body>\n",
            "\n",
            "<h1>Health Insurance Estimate</h1>\n",
            "\n",
            "<p>This estimate is based on data from 2024 and provides a general overview.  Individual costs can vary based on many factors not included in this estimate. </p>\n",
            "\n",
            "<h2>Sample Scenario</h2>\n",
            "<p>For this example, let's assume a family of four living in Fulton County, Georgia: two adults (ages 35 and 38) and two children (ages 8 and 12). The family has no major pre-existing health conditions and visits the doctor for routine check-ups and occasional illnesses.</p>\n",
            "\n",
            "<h2>Estimated Premiums</h2>\n",
            "<ul>\n",
            "  <li><b>Bronze:</b> The range of annual premiums for this plan type is between 10000 and 16000 dollars, with an average cost of approximately 13000 dollars per year.</li>\n",
            "  <li><b>Silver:</b> The range of annual premiums for this plan type is between 14000 and 20000 dollars, with an average cost of approximately 17000 dollars per year.</li>\n",
            "  <li><b>Gold:</b> The range of annual premiums for this plan type is between 18000 and 24000 dollars, with an average cost of approximately 21000 dollars per year.</li>\n",
            "  <li><b>Platinum:</b> The range of annual premiums for this plan type is between 22000 and 28000 dollars, with an average cost of approximately 25000 dollars per year.</li>\n",
            "</ul>\n",
            "\n",
            "<h2>Estimated Deductibles for Common Medical Scenarios</h2>\n",
            "<p>Deductibles can vary significantly depending on the plan.  Here's a general overview:</p>\n",
            "\n",
            "<ul>\n",
            "    <li><b>Annual Physicals:</b> Costs for routine check-ups are typically covered with minimal out-of-pocket expenses regardless of metal level.</li>\n",
            "    <li><b>Routine Illness (e.g., cold, flu):</b> For routine illnesses, expect to pay several hundred dollars in deductibles at the Bronze level, decreasing to around one hundred dollars at the Platinum level.</li>\n",
            "    <li><b>Serious Injury or Illness (e.g., broken bone, hospitalization):</b> Costs associated with serious injury or illness can range from several thousand dollars at the Bronze level, potentially decreasing to several hundred dollars at the Platinum level. These costs are highly dependent on care type and length of stay.</li>  \n",
            "</ul>\n",
            "\n",
            "<h2>Estimated Deductibles for Specified Recurring Visits (Sample)</h2>\n",
            "<p>Given the family's stated routine check-ups and occasional illnesses, deductibles could range from 500 to 1000 dollars annually for Bronze plans, decreasing to 100 to 500 dollars annually for Silver plans, and even less for Gold and Platinum plans.</p>\n",
            "\n",
            "<h2>Cost Reduction Eligibility</h2>\n",
            "<p>You may be eligible for cost reductions based on your income.  Explore the options available through healthcare.gov to see if you qualify for subsidies.</p>\n",
            "\n",
            "\n",
            "<h2>Insurance Companies Operating in Fulton County</h2>\n",
            "<ul>\n",
            "  <li>UnitedHealthcare</li>\n",
            "  <li>Ambetter from Peach State Health Plan</li>\n",
            "  <li>Aetna</li>\n",
            "  </ul>\n",
            "\n",
            "<h2>Additional Resources</h2>\n",
            "<p>For a more detailed personalized estimate and to compare plans, it's recommended to use the resources available on healthcare.gov.</p>\n",
            "\n",
            "\n",
            "<h2>Disclaimer</h2>\n",
            "<p>This information is for estimation purposes only and should not be considered financial or medical advice.  Actual costs may vary. Please refer to the plans' details and consult with insurance providers for accurate and current information.</p>\n",
            "<p>For the most accurate and up-to-date information about health insurance plans, please visit <a href=\"https://www.healthcare.gov/\">healthcare.gov</a>.</p>\n",
            "\n",
            "</body>\n",
            "</html>\n",
            "\n"
          ]
        }
      ],
      "source": [
        "from IPython.display import display\n",
        "from IPython.display import Markdown\n",
        "\n",
        "# Call the model and print the response.\n",
        "gemini = genai.GenerativeModel(model_name=model)\n",
        "\n",
        "response = gemini.generate_content(\n",
        "    contents,\n",
        "    generation_config=generation_config,\n",
        "    safety_settings=safety_settings,\n",
        "    stream=stream,\n",
        ")\n",
        "\n",
        "#display(Markdown(response.text))\n",
        "print(response.text)"
      ]
    },
    {
      "cell_type": "markdown",
      "metadata": {
        "id": "9c9d345e9868"
      },
      "source": [
        "<table class=\"tfo-notebook-buttons\" align=\"left\">\n",
        "  <td>\n",
        "    <a target=\"_blank\" href=\"https://ai.google.dev/gemini-api/docs\"><img src=\"https://ai.google.dev/static/site-assets/images/docs/notebook-site-button.png\" height=\"32\" width=\"32\" />Docs on ai.google.dev</a>\n",
        "  </td>\n",
        "  <td>\n",
        "    <a target=\"_blank\" href=\"https://github.com/google-gemini/cookbook/blob/main/quickstarts\"><img src=\"https://www.tensorflow.org/images/GitHub-Mark-32px.png\" />More notebooks in the Cookbook</a>\n",
        "  </td>\n",
        "</table>"
      ]
    }
  ],
  "metadata": {
    "colab": {
      "provenance": []
    },
    "kernelspec": {
      "display_name": "Python 3",
      "name": "python3"
    }
  },
  "nbformat": 4,
  "nbformat_minor": 0
}